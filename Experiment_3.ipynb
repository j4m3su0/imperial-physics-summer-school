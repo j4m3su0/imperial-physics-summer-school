{
 "cells": [
  {
   "cell_type": "markdown",
   "metadata": {},
   "source": [
    "# Experiment 3\n",
    "\n",
    "Your pendulum experiments in real life act as damped oscillators. Think about what the source of this damping might be?\n",
    "This experiment will have you determine the damping coefficient $b$ (or $\\gamma = \\frac{b}{2m}$) of your pendulum.\n",
    "\n",
    "As before we require you to make as precise measurements as you can. We will not be measuring `b` directly but\n",
    "rather extracting it from a fit to your data."
   ]
  },
  {
   "cell_type": "markdown",
   "metadata": {},
   "source": [
    "## 3.1 Setting up the environment"
   ]
  },
  {
   "cell_type": "markdown",
   "metadata": {},
   "source": [
    "Firstly, we will need to install the required `ipysheet` package by running the next code cell."
   ]
  },
  {
   "cell_type": "code",
   "execution_count": 3,
   "metadata": {},
   "outputs": [
    {
     "name": "stdout",
     "output_type": "stream",
     "text": [
      "Defaulting to user installation because normal site-packages is not writeable\n",
      "Requirement already satisfied: ipysheet in c:\\users\\guest985156\\appdata\\roaming\\python\\python311\\site-packages (0.7.0)\n",
      "Requirement already satisfied: ipywidgets<9.0,>=7.5.0 in c:\\programdata\\anaconda3\\lib\\site-packages (from ipysheet) (8.0.4)\n",
      "Requirement already satisfied: ipykernel>=4.5.1 in c:\\programdata\\anaconda3\\lib\\site-packages (from ipywidgets<9.0,>=7.5.0->ipysheet) (6.25.0)\n",
      "Requirement already satisfied: ipython>=6.1.0 in c:\\programdata\\anaconda3\\lib\\site-packages (from ipywidgets<9.0,>=7.5.0->ipysheet) (8.15.0)\n",
      "Requirement already satisfied: traitlets>=4.3.1 in c:\\programdata\\anaconda3\\lib\\site-packages (from ipywidgets<9.0,>=7.5.0->ipysheet) (5.7.1)\n",
      "Requirement already satisfied: widgetsnbextension~=4.0 in c:\\programdata\\anaconda3\\lib\\site-packages (from ipywidgets<9.0,>=7.5.0->ipysheet) (4.0.5)\n",
      "Requirement already satisfied: jupyterlab-widgets~=3.0 in c:\\programdata\\anaconda3\\lib\\site-packages (from ipywidgets<9.0,>=7.5.0->ipysheet) (3.0.5)\n",
      "Requirement already satisfied: comm>=0.1.1 in c:\\programdata\\anaconda3\\lib\\site-packages (from ipykernel>=4.5.1->ipywidgets<9.0,>=7.5.0->ipysheet) (0.1.2)\n",
      "Requirement already satisfied: debugpy>=1.6.5 in c:\\programdata\\anaconda3\\lib\\site-packages (from ipykernel>=4.5.1->ipywidgets<9.0,>=7.5.0->ipysheet) (1.6.7)\n",
      "Requirement already satisfied: jupyter-client>=6.1.12 in c:\\programdata\\anaconda3\\lib\\site-packages (from ipykernel>=4.5.1->ipywidgets<9.0,>=7.5.0->ipysheet) (7.4.9)\n",
      "Requirement already satisfied: jupyter-core!=5.0.*,>=4.12 in c:\\programdata\\anaconda3\\lib\\site-packages (from ipykernel>=4.5.1->ipywidgets<9.0,>=7.5.0->ipysheet) (5.3.0)\n",
      "Requirement already satisfied: matplotlib-inline>=0.1 in c:\\programdata\\anaconda3\\lib\\site-packages (from ipykernel>=4.5.1->ipywidgets<9.0,>=7.5.0->ipysheet) (0.1.6)\n",
      "Requirement already satisfied: nest-asyncio in c:\\programdata\\anaconda3\\lib\\site-packages (from ipykernel>=4.5.1->ipywidgets<9.0,>=7.5.0->ipysheet) (1.5.6)\n",
      "Requirement already satisfied: packaging in c:\\programdata\\anaconda3\\lib\\site-packages (from ipykernel>=4.5.1->ipywidgets<9.0,>=7.5.0->ipysheet) (23.1)\n",
      "Requirement already satisfied: psutil in c:\\programdata\\anaconda3\\lib\\site-packages (from ipykernel>=4.5.1->ipywidgets<9.0,>=7.5.0->ipysheet) (5.9.0)\n",
      "Requirement already satisfied: pyzmq>=20 in c:\\programdata\\anaconda3\\lib\\site-packages (from ipykernel>=4.5.1->ipywidgets<9.0,>=7.5.0->ipysheet) (23.2.0)\n",
      "Requirement already satisfied: tornado>=6.1 in c:\\programdata\\anaconda3\\lib\\site-packages (from ipykernel>=4.5.1->ipywidgets<9.0,>=7.5.0->ipysheet) (6.3.2)\n",
      "Requirement already satisfied: backcall in c:\\programdata\\anaconda3\\lib\\site-packages (from ipython>=6.1.0->ipywidgets<9.0,>=7.5.0->ipysheet) (0.2.0)\n",
      "Requirement already satisfied: decorator in c:\\programdata\\anaconda3\\lib\\site-packages (from ipython>=6.1.0->ipywidgets<9.0,>=7.5.0->ipysheet) (5.1.1)\n",
      "Requirement already satisfied: jedi>=0.16 in c:\\programdata\\anaconda3\\lib\\site-packages (from ipython>=6.1.0->ipywidgets<9.0,>=7.5.0->ipysheet) (0.18.1)\n",
      "Requirement already satisfied: pickleshare in c:\\programdata\\anaconda3\\lib\\site-packages (from ipython>=6.1.0->ipywidgets<9.0,>=7.5.0->ipysheet) (0.7.5)\n",
      "Requirement already satisfied: prompt-toolkit!=3.0.37,<3.1.0,>=3.0.30 in c:\\programdata\\anaconda3\\lib\\site-packages (from ipython>=6.1.0->ipywidgets<9.0,>=7.5.0->ipysheet) (3.0.36)\n",
      "Requirement already satisfied: pygments>=2.4.0 in c:\\programdata\\anaconda3\\lib\\site-packages (from ipython>=6.1.0->ipywidgets<9.0,>=7.5.0->ipysheet) (2.15.1)\n",
      "Requirement already satisfied: stack-data in c:\\programdata\\anaconda3\\lib\\site-packages (from ipython>=6.1.0->ipywidgets<9.0,>=7.5.0->ipysheet) (0.2.0)\n",
      "Requirement already satisfied: colorama in c:\\programdata\\anaconda3\\lib\\site-packages (from ipython>=6.1.0->ipywidgets<9.0,>=7.5.0->ipysheet) (0.4.6)\n",
      "Requirement already satisfied: parso<0.9.0,>=0.8.0 in c:\\programdata\\anaconda3\\lib\\site-packages (from jedi>=0.16->ipython>=6.1.0->ipywidgets<9.0,>=7.5.0->ipysheet) (0.8.3)\n",
      "Requirement already satisfied: entrypoints in c:\\programdata\\anaconda3\\lib\\site-packages (from jupyter-client>=6.1.12->ipykernel>=4.5.1->ipywidgets<9.0,>=7.5.0->ipysheet) (0.4)\n",
      "Requirement already satisfied: python-dateutil>=2.8.2 in c:\\programdata\\anaconda3\\lib\\site-packages (from jupyter-client>=6.1.12->ipykernel>=4.5.1->ipywidgets<9.0,>=7.5.0->ipysheet) (2.8.2)\n",
      "Requirement already satisfied: platformdirs>=2.5 in c:\\programdata\\anaconda3\\lib\\site-packages (from jupyter-core!=5.0.*,>=4.12->ipykernel>=4.5.1->ipywidgets<9.0,>=7.5.0->ipysheet) (3.10.0)\n",
      "Requirement already satisfied: pywin32>=300 in c:\\programdata\\anaconda3\\lib\\site-packages (from jupyter-core!=5.0.*,>=4.12->ipykernel>=4.5.1->ipywidgets<9.0,>=7.5.0->ipysheet) (305.1)\n",
      "Requirement already satisfied: wcwidth in c:\\programdata\\anaconda3\\lib\\site-packages (from prompt-toolkit!=3.0.37,<3.1.0,>=3.0.30->ipython>=6.1.0->ipywidgets<9.0,>=7.5.0->ipysheet) (0.2.5)\n",
      "Requirement already satisfied: executing in c:\\programdata\\anaconda3\\lib\\site-packages (from stack-data->ipython>=6.1.0->ipywidgets<9.0,>=7.5.0->ipysheet) (0.8.3)\n",
      "Requirement already satisfied: asttokens in c:\\programdata\\anaconda3\\lib\\site-packages (from stack-data->ipython>=6.1.0->ipywidgets<9.0,>=7.5.0->ipysheet) (2.0.5)\n",
      "Requirement already satisfied: pure-eval in c:\\programdata\\anaconda3\\lib\\site-packages (from stack-data->ipython>=6.1.0->ipywidgets<9.0,>=7.5.0->ipysheet) (0.2.2)\n",
      "Requirement already satisfied: six>=1.5 in c:\\programdata\\anaconda3\\lib\\site-packages (from python-dateutil>=2.8.2->jupyter-client>=6.1.12->ipykernel>=4.5.1->ipywidgets<9.0,>=7.5.0->ipysheet) (1.16.0)\n",
      "Note: you may need to restart the kernel to use updated packages.\n"
     ]
    }
   ],
   "source": [
    "%pip install ipysheet"
   ]
  },
  {
   "cell_type": "markdown",
   "metadata": {},
   "source": [
    "Next, we will import the packages we will need in this notebook."
   ]
  },
  {
   "cell_type": "code",
   "execution_count": 4,
   "metadata": {},
   "outputs": [],
   "source": [
    "import numpy as np\n",
    "import scipy.stats as sps\n",
    "import scipy.optimize as spo\n",
    "import matplotlib.pyplot as plt\n",
    "import physics_summer_school as pss"
   ]
  },
  {
   "cell_type": "markdown",
   "metadata": {},
   "source": [
    "\n",
    "Since we will be extracting `b` from a fit to our data we need to think carefully about what data we should be recording. You are free to approach the experiment however you wish and you are encouraged to innovate as necessary.\n",
    "\n",
    "In previous experiments we have either ignored any uncertainties in the independent variable ($x$-axis quantity) or used the systematic uncertainty of the measuring instrument only. In this experiment we can do similarly by considering the independent variable in terms of the number of periods. We can create a spreadsheet for this approact using the `pss.sheet_exp3A()` function. This function takes two parameters:\n",
    "* `n_periods`: This is the number of periods that you will be measuring\n",
    "* `n_repeats`: How many times you will repeat the measurement for this period.\n",
    "\n",
    "Alternatively for this experiment you could consider measuring the independent variable in absolute terms. This would mean that you could have statistical uncertainites associated with both the $x$ and $y$ axes. We can create a spreadsheet for this approact using the `pss.sheet_exp3B()` function. This function takes a single parameters:\n",
    "\n",
    " * `n_readings`: This is the number time, amplitude readings that you will take.\n",
    " \n",
    "If these pre-made sheets do not cover your use case then you can create your own custom sheet using:\n",
    "`pss.create_sheet(rows=?, columns=?)` and pick your own layout by replacing the `?` with whatever you desire.\n",
    "\n",
    "**Note: When you need to load a custom sheet you should use the `pss.load_sheet()` function rather than `pss.load_exp3A()` or `pss.load_exp3B()`**"
   ]
  },
  {
   "cell_type": "code",
   "execution_count": 5,
   "metadata": {},
   "outputs": [
    {
     "data": {
      "application/vnd.jupyter.widget-view+json": {
       "model_id": "6d82aec5404f4a2a874b6815ba64264c",
       "version_major": 2,
       "version_minor": 0
      },
      "text/plain": [
       "Sheet(cells=(Cell(column_end=0, column_start=0, row_end=0, row_start=0, type='numeric', value=0.0), Cell(colum…"
      ]
     },
     "execution_count": 5,
     "metadata": {},
     "output_type": "execute_result"
    }
   ],
   "source": [
    "# Un/comment out as necessary\n",
    "sheet3 = pss.sheet_exp3A(n_periods=4, n_repeats=4)\n",
    "# sheet3 = pss.sheet_exp3B(n_readings=5)\n",
    "# sheet3 = pss.create_sheet(rows=?, columns=?)\n",
    "sheet3"
   ]
  },
  {
   "cell_type": "markdown",
   "metadata": {},
   "source": [
    "## 3.2 Conduct the experiment\n",
    "\n",
    "Now you should go ahead and conduct the experiment. Remember to try and make the most precise measurements that you can. You are free to approach the experiment however you wish and you are encouraged to innovate as necessary. When considering how to approach this experiment it is useful to recall the following two equations from the lectures."
   ]
  },
  {
   "cell_type": "markdown",
   "metadata": {},
   "source": [
    "\n",
    "\n",
    "$$\n",
    "\\begin{aligned}\n",
    "A(t) &= A_0e^{-\\frac{bt}{2m}}\\\\\n",
    "x(t) &= A(t)\\cos{(\\omega t + \\phi)} = A_0e^{-\\frac{bt}{2m}}\\cos{(\\omega t + \\phi)}\\\\\n",
    "\\end{aligned}\n",
    "$$\n"
   ]
  },
  {
   "cell_type": "markdown",
   "metadata": {},
   "source": [
    "\n",
    "**remember to input your measured values directly into the cells of the spreadsheet above. Note that you will need to either click off a cell (or press enter) after putting in your value for it to be properly updated.**\n",
    "\n",
    "Once you are done, the next step is to save the date to a persistent storage medium like the your USB stick. Do this by using the `save()` method of your sheet."
   ]
  },
  {
   "cell_type": "code",
   "execution_count": null,
   "metadata": {},
   "outputs": [],
   "source": [
    "sheet3.save()"
   ]
  },
  {
   "cell_type": "markdown",
   "metadata": {},
   "source": [
    "## 3.3 Data analysis\n",
    "\n",
    "As before, we will start by loading the data we just saved. To do this we will use either the `pss.load_exp3A()` or `pss.load_exp3B()` functions.\n",
    "\n",
    "**Note if you created your own custom sheet above with `pss.create_sheet()` then you must use `pss.load_sheet()` instead**"
   ]
  },
  {
   "cell_type": "code",
   "execution_count": 1,
   "metadata": {},
   "outputs": [
    {
     "ename": "NameError",
     "evalue": "name 'pss' is not defined",
     "output_type": "error",
     "traceback": [
      "\u001b[1;31m---------------------------------------------------------------------------\u001b[0m",
      "\u001b[1;31mNameError\u001b[0m                                 Traceback (most recent call last)",
      "Cell \u001b[1;32mIn[1], line 2\u001b[0m\n\u001b[0;32m      1\u001b[0m \u001b[38;5;66;03m# Un/comment out as necessary\u001b[39;00m\n\u001b[1;32m----> 2\u001b[0m sheet3 \u001b[38;5;241m=\u001b[39m pss\u001b[38;5;241m.\u001b[39mload_exp3A()\n\u001b[0;32m      3\u001b[0m \u001b[38;5;66;03m# sheet3 = pss.load_exp3B()\u001b[39;00m\n\u001b[0;32m      4\u001b[0m \u001b[38;5;66;03m# sheet3 = pss.load_sheet()\u001b[39;00m\n\u001b[0;32m      5\u001b[0m sheet3\n",
      "\u001b[1;31mNameError\u001b[0m: name 'pss' is not defined"
     ]
    }
   ],
   "source": [
    "# Un/comment out as necessary\n",
    "sheet3 = pss.load_exp3A()\n",
    "# sheet3 = pss.load_exp3B()\n",
    "# sheet3 = pss.load_sheet()\n",
    "sheet3"
   ]
  },
  {
   "cell_type": "markdown",
   "metadata": {},
   "source": [
    "and again we will get the data into a format that we can work with, like numpy using the `to_array()` method."
   ]
  },
  {
   "cell_type": "code",
   "execution_count": null,
   "metadata": {},
   "outputs": [],
   "source": [
    "data3 = sheet3.to_array()\n",
    "data3"
   ]
  },
  {
   "cell_type": "markdown",
   "metadata": {},
   "source": [
    "### 3.3.1 Plotting you data\n",
    "\n",
    "Now we are going to plot your data using matplotlib. Your plot should have the following:\n",
    "* data points **with error bars**\n",
    "* both x and y labels **with units**\n",
    "* title"
   ]
  },
  {
   "cell_type": "code",
   "execution_count": null,
   "metadata": {},
   "outputs": [],
   "source": []
  },
  {
   "cell_type": "markdown",
   "metadata": {},
   "source": [
    "### 3.3.2 Fitting your data\n",
    "\n",
    "Now that we have our data points plotted, let's try and fit them. Before this can be done, we should be able to answer the following:\n",
    "* What would be the correct function to fit this data?\n",
    "**(recall the useful formulae mentioned earlier when choosing what data to record)**\n",
    "$$\n",
    "\\begin{aligned}\n",
    "A(t) &= A_0e^{-\\frac{bt}{2m}}\\\\\n",
    "x(t) &= A(t)\\cos{(\\omega t + \\phi)} = A_0e^{-\\frac{bt}{2m}}\\cos{(\\omega t + \\phi)}\\\\\n",
    "\\end{aligned}\n",
    "$$\n",
    "\n",
    "* What do the parameters of the fit signify?\n",
    "\n",
    "\n",
    "With the answers to the above in mind, we can once again use the `spo.curve_fit()` function to fit your data."
   ]
  },
  {
   "cell_type": "code",
   "execution_count": null,
   "metadata": {},
   "outputs": [],
   "source": []
  },
  {
   "cell_type": "markdown",
   "metadata": {},
   "source": [
    "With your fit complete, print our the best fit values for the parameters **along with their errors**"
   ]
  },
  {
   "cell_type": "code",
   "execution_count": null,
   "metadata": {},
   "outputs": [],
   "source": []
  },
  {
   "cell_type": "markdown",
   "metadata": {},
   "source": [
    "Now lets plot your data along with your fit on a single canvas. **Don't forget the legend**"
   ]
  },
  {
   "cell_type": "code",
   "execution_count": null,
   "metadata": {},
   "outputs": [],
   "source": []
  }
 ],
 "metadata": {
  "kernelspec": {
   "display_name": "Python 3 (ipykernel)",
   "language": "python",
   "name": "python3"
  },
  "language_info": {
   "codemirror_mode": {
    "name": "ipython",
    "version": 3
   },
   "file_extension": ".py",
   "mimetype": "text/x-python",
   "name": "python",
   "nbconvert_exporter": "python",
   "pygments_lexer": "ipython3",
   "version": "3.11.5"
  },
  "vscode": {
   "interpreter": {
    "hash": "f3245ed5f1a73a112821c8e0f0774d51da2e0b158274f0cc4946941fd8b74480"
   }
  }
 },
 "nbformat": 4,
 "nbformat_minor": 4
}
