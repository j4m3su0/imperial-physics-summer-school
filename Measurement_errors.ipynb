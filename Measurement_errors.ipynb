{
 "cells": [
  {
   "cell_type": "markdown",
   "metadata": {},
   "source": [
    "# Making measurements in a Lab\n",
    "\n",
    "The physical sciences are a mixture of experimental and theoretical science. You are often told about the theory but how do you know when your measurements actually agree or disagree with the theory? Experimental science is all about understanding your errors! \n",
    "\n",
    "Suppose the theory says the answer should be 100 and I measure 120. Do I agree with the theory or not?\n",
    "\n",
    "It depends on the error!\n",
    "\n",
    "## Different sorts of experimental errors (better called uncertainties)\n",
    "\n",
    "### Systematic Uncertainties \n",
    "These are things like how well you can time a process, how well you can measure a distance even how sure are you that your \"meter\" rule has not changed length in the heat. \n",
    "\n",
    "### Statistical uncertainties\n",
    "Often experiments have a truely random element to them. Imagine throwing a dice. Many experiments which rely on quantum mechanics are also truely random. Imagine the decay of a nucleus, nobody can tell exactly when it is going to decay. \n",
    "\n",
    "### So how can you handle these uncertainties?\n",
    "The answer is often that you repeat the experiment many times. So that if you have an uncertainty on how well you can measure a distance, if you measure it lots of times then the average of your measurements will be a better estimate than any single one of your measurements. Obviously the smaller the uncertainty on each measurement the quicker your  You still need to be careful about systematic biases (e.g. your instrument is miscalibrated) but we assume that you don't have any of these for now.   \n",
    "\n",
    "Something called the central limit theorem (CLT) says that if you repeat a measurement which has uncertainties the distribution of the results that you will get will (generally) have a Gaussian (sometimes a normal) distribution. The CLT is slightly more subtle than this but this is the idea."
   ]
  },
  {
   "cell_type": "code",
   "execution_count": 2,
   "metadata": {},
   "outputs": [
    {
     "name": "stdout",
     "output_type": "stream",
     "text": [
      "#########################################################\n",
      "The mean is  24.441404618871385\n",
      "The difference from the expected mean is  -0.05859538112861529\n",
      "and the standard deviation is  15.907609800992294\n",
      "##########################################################\n"
     ]
    },
    {
     "data": {
      "image/png": "[encoded data removed]",
      "text/plain": [
       "<Figure size 432x288 with 1 Axes>"
      ]
     },
     "metadata": {
      "needs_background": "light"
     },
     "output_type": "display_data"
    }
   ],
   "source": [
    "import numpy as np\n",
    "import numpy.random as npr\n",
    "import scipy as sp\n",
    "import pylab as pl\n",
    "%matplotlib inline\n",
    "\n",
    "###################################################################\n",
    "# set up the situation\n",
    "###################################################################\n",
    "centre=24.5\n",
    "n=10000 # the number of experiments\n",
    "uncertainty = 16 #This represents the uncertainty on the individual measurement\n",
    "\n",
    "\n",
    "##################################################################\n",
    "# now run the simulations and display the output\n",
    "##################################################################\n",
    "\n",
    "x=npr.normal(loc=centre, scale=uncertainty, size=n)\n",
    "print(\"#########################################################\")\n",
    "print(\"The mean is \",np.mean(x))\n",
    "print(\"The difference from the expected mean is \",np.mean(x)-centre)\n",
    "print(\"and the standard deviation is \",np.std(x))\n",
    "print(\"##########################################################\")\n",
    "\n",
    "pl.hist(x,30)\n",
    "pl.show()"
   ]
  },
  {
   "cell_type": "markdown",
   "metadata": {},
   "source": [
    "So both the mean and the standard deviation are important. So how can we extimate these from a data set?\n",
    "\n",
    "It turns out that best estimate of the standard deviation is:\n",
    "\n",
    "\\begin{equation*}s=\\sqrt{\\frac{\\Sigma_{i=1}^n(x_i-\\bar{x})^2}{n-1}}\\end{equation*}\n",
    "\n",
    "the \"standard error\" $\\sigma$ is then defined as:\n",
    "\n",
    "\\begin{equation*}\\sigma=\\frac{s}{\\sqrt{n}}\\end{equation*}"
   ]
  },
  {
   "cell_type": "markdown",
   "metadata": {},
   "source": [
    "## What do you do if what you measure is actually a function of what you really want to know?\n",
    "\n",
    "You can actually propogate errors so that if you measure $x$ and really you are interested in $y=f(x)$ then:\n",
    "\n",
    "\\begin{equation*}\\sigma_y = \\frac{d f(x)}{dx} \\sigma_x\\end{equation*}\n",
    "\n",
    "So for example if you measure length $x$ but you really want know $y=3x^2$ then $\\sigma_y=6x \\sigma_x$. \n",
    "\n",
    "This afternoon you will measure a period $T$ and then plot $T^2$ (with error bars) against a length l. You will then, by eye at this stage, find the gradient of that line with its associated uncertainty. The gradient $m=4\\pi^2/g$ and it is the value and error on $g$ that you want to find.  \n"
   ]
  },
  {
   "cell_type": "markdown",
   "metadata": {},
   "source": [
    "## <font color=red >Just to be complete - not needed this week </font>\n",
    "\n",
    "What if you have more than one quantity with errors that you are combining into your measurement, i.e. you are interested in $z=f(x,y)$? Then:\n",
    "\n",
    "\\begin{equation*}\\sigma_z =\\sqrt{(\\frac{\\partial f(x,y)}{\\partial x})^2 \\sigma_x^2+(\\frac{\\partial f(x,y)}{\\partial y})^2 \\sigma_y^2}\\end{equation*}\n",
    "\n",
    "so if $z=x+y$ then $\\sigma_z =\\sqrt{\\sigma_x^2 +\\sigma_y^2}$ .\n",
    "\n",
    "Technically, it can be even more complicated. The errors given above assume that $x$ and $y$ are independent and uncorrelated. If they are correlated then you can bring in a covariance matrix, but that is well beyond the scope of this week (and most of the first year undergraduate course here). **You will touch on a covariance matrix on Thursday but all that you need to know is that when you fit, the diagonal elements are the square of the errors** you will do an example and a demonstrator will be here to help *so there is no need to worry!*\n"
   ]
  }
 ],
 "metadata": {
  "kernelspec": {
   "display_name": "Python 3",
   "language": "python",
   "name": "python3"
  },
  "language_info": {
   "codemirror_mode": {
    "name": "ipython",
    "version": 3
   },
   "file_extension": ".py",
   "mimetype": "text/x-python",
   "name": "python",
   "nbconvert_exporter": "python",
   "pygments_lexer": "ipython3",
   "version": "3.6.2"
  }
 },
 "nbformat": 4,
 "nbformat_minor": 1
}
