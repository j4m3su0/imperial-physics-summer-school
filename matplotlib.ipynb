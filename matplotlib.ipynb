{
 "cells": [
  {
   "cell_type": "markdown",
   "metadata": {},
   "source": [
    "# NumPy, SciPy and matplotlib (PyLab)\n",
    "---"
   ]
  },
  {
   "cell_type": "markdown",
   "metadata": {},
   "source": [
    "These three libraries are very powerful and you will use them to simulate some complex situations.\n",
    "\n",
    "NumPy is a numerical package that handles arrays of numbers as well as providing functions for random number generation, Fourier transforms, linear algebra etc.\n",
    "\n",
    "SciPy is a library of scientifically useful function.\n",
    "\n",
    "matplotlib (PyLab) allows you to plot graphs, histograms etc "
   ]
  },
  {
   "cell_type": "markdown",
   "metadata": {},
   "source": [
    "To import the numpy package, we can use the following:\n",
    "```python\n",
    "import numpy\n",
    "```\n",
    "\n",
    "\n",
    "We can now use the functions in NumPy:\n",
    "```python\n",
    "x=numpy.arange(10)\n",
    "y=numpy.exp(1j*x)\n",
    "```"
   ]
  },
  {
   "cell_type": "code",
   "execution_count": 2,
   "metadata": {},
   "outputs": [
    {
     "name": "stdout",
     "output_type": "stream",
     "text": [
      "[0 1 2 3 4 5 6 7 8 9]\n",
      "[ 1.        +0.j          0.54030231+0.84147098j -0.41614684+0.90929743j\n",
      " -0.9899925 +0.14112001j -0.65364362-0.7568025j   0.28366219-0.95892427j\n",
      "  0.96017029-0.2794155j   0.75390225+0.6569866j  -0.14550003+0.98935825j\n",
      " -0.91113026+0.41211849j]\n"
     ]
    }
   ],
   "source": [
    "import numpy\n",
    "\n",
    "x=numpy.arange(10)\n",
    "y=numpy.exp(1*x)\n",
    "print(x)\n",
    "print(y)"
   ]
  },
  {
   "cell_type": "markdown",
   "metadata": {},
   "source": [
    "## 1. NumPy arrays\n",
    "The main object in the NumPy is the multidimensional array (numpy.ndarray). We have already seen one way of creating ndarrays with one dimension using the arange function.\n",
    "\n",
    "\n",
    "```python\n",
    ">>> import numpy\n",
    ">>> a=numpy.arange(10)\n",
    "```\n",
    "The ndarray has a number of attributes containing properties such as number of dimensions, size, shape, datatype:\n",
    "```python\n",
    ">>> a.ndim    #number of dimensions\n",
    "1\n",
    ">>> a.size    #total number of elements\n",
    "10\n",
    ">>> a.shape   #the shape of the array\n",
    "(10,)\n",
    ">>> a.dtype   #data type of the elements\n",
    "dtype('int64')\n",
    "```\n",
    "All elements in an array must be of the same data type. (in the above case ‘int64’ which is 64-bit integer.) This is quite different to Python lists which can contain different types of objects.\n",
    "\n",
    "You can also create NumPy ndarrays from Python lists or tuples:\n",
    "```python\n",
    ">>> numpy.array([1,2,3,4,5])\n",
    "array([1, 2, 3, 4, 5])\n",
    ">>> numpy.array((1,2,3,4,5))\n",
    "array([1, 2, 3, 4, 5])\n",
    ">>> numpy.array([1,2,3,4,5],dtype=float)\n",
    "array([ 1.,  2.,  3.,  4.,  5.])\n",
    ">>> b=numpy.array([1,2,3,4,5],dtype=complex)\n",
    ">>> b\n",
    "array([ 1.+0.j,  2.+0.j,  3.+0.j,  4.+0.j,  5.+0.j])\n",
    ">>> b.dtype\n",
    "dtype('complex128')\n",
    ">>> numpy.arange(0,4,0.5)\n",
    "array([ 0. ,  0.5,  1. ,  1.5,  2. ,  2.5,  3. ,  3.5])\n",
    "```\n",
    "\n",
    "### 1.1 Arithmetic operations\n",
    "Arithmetic operations on ndarrays apply element-by-element. We have already used this property with some of the plotting tasks. Examples:\n",
    "```python\n",
    ">>> a=numpy.arange(5)\n",
    ">>> a*10\n",
    "array([ 0, 10, 20, 30, 40])\n",
    ">>> a+10\n",
    "array([10, 11, 12, 13, 14])\n",
    ">>> a*10+a\n",
    "array([ 0, 11, 22, 33, 44])\n",
    ">>> b=numpy.arange(5)*0.01\n",
    ">>> b\n",
    "array([ 0.  ,  0.01,  0.02,  0.03,  0.04])\n",
    ">>> a+b\n",
    "array([ 0.  ,  1.01,  2.02,  3.03,  4.04])\n",
    ">>> 2**numpy.arange(10)\n",
    "array([  1,   2,   4,   8,  16,  32,  64, 128, 256, 512])\n",
    "```\n",
    "Check you understand what is happening in the above examples.\n",
    "\n",
    "\n",
    "**Try all the above operations with Python lists instead. How do the behaviours of list and ndarray differ?**"
   ]
  },
  {
   "cell_type": "code",
   "execution_count": 4,
   "metadata": {},
   "outputs": [
    {
     "name": "stdout",
     "output_type": "stream",
     "text": [
      "[0.+0.j 1.+0.j 2.+0.j 3.+0.j 4.+0.j 5.+0.j 6.+0.j 7.+0.j 8.+0.j 9.+0.j]\n"
     ]
    }
   ],
   "source": [
    "import numpy\n",
    "a = numpy.arange(10, dtype = complex)\n",
    "print(a)"
   ]
  },
  {
   "cell_type": "code",
   "execution_count": null,
   "metadata": {},
   "outputs": [],
   "source": []
  },
  {
   "cell_type": "markdown",
   "metadata": {},
   "source": [
    "### 1.2 Universal functions \n",
    "NumPy provides a number of functions that operate on the elements of ndarrays. These are called universal functions (‘ufunc’s) Most ufuncs are implemented as compiled code and are consequently faster than applying the same operation on each element one-by-one using Python loops.\n",
    "\n",
    "Examples:\n",
    "```python\n",
    ">>> from numpy import *\n",
    ">>> a=arange(5)\n",
    ">>> a\n",
    "array([0, 1, 2, 3, 4])\n",
    ">>> cos(a)\n",
    "array([ 1.        ,  0.54030231, -0.41614684, -0.9899925 , -0.65364362])\n",
    ">>> sin(a)+exp(1j*a)\n",
    "array([ 1.00000000+0.j        ,  1.38177329+0.84147098j,\n",
    "        0.49315059+0.90929743j, -0.84887249+0.14112001j,\n",
    "       -1.41044612-0.7568025j ])\n",
    ">>> b=arange(5)*0.2j\n",
    ">>> b\n",
    "array([ 0.+0.j ,  0.+0.2j,  0.+0.4j,  0.+0.6j,  0.+0.8j])\n",
    ">>> add(a,b)\n",
    "array([ 0.+0.j ,  1.+0.2j,  2.+0.4j,  3.+0.6j,  4.+0.8j])\n",
    "```\n",
    "Available ufuncs include math operations (add, subtract, multiply, divide, power, exp, log, conjugate, sign, absolute, sqrt, ...,); trigonometric functions (cos, sin, tan, cosh, sinh, arccos, ...); comparison functions (greater, equal, less, ...). This is not a complete list.\n",
    "\n",
    "Ufuncs may be called automatically when the infix operator notation is used with ndarrays. For example, writing a+b results in a call to add(a,b) if either a or b are ndarrays.\n",
    "\n",
    "Getting help on ufuncs\n",
    "\n",
    "Because of the way ufuncs are implemented inside the library (which we will not go into here) using the standard Python help command, ‘help(conjugate)’ only gives generic information on ufuncs rather than on conjugate, which is probably not what you want. For more specific help, you can use info:\n",
    "\n",
    "```python\n",
    ">>> numpy.info(numpy.ufunc)   # generic help on ufuncs\n",
    ">>> numpy.info(numpy.conjugate)  # help on the specific ufunc conjugate\n",
    "```\n",
    "For more detailed information, and a list of available ufuncs, see http://docs.scipy.org/doc/numpy/reference/ufuncs.html"
   ]
  },
  {
   "cell_type": "markdown",
   "metadata": {},
   "source": [
    "## 2. Ploting with matplotlib\n",
    "matplotlib is a very powerful graphing tool and yet it commands are pretty straightforward.\n",
    "\n",
    "**Look at and run the simple example below try changing the range, the style etc. Change the red dashes to red dots (you can try both small and large dots)**"
   ]
  },
  {
   "cell_type": "code",
   "execution_count": 1,
   "metadata": {},
   "outputs": [
    {
     "data": {
      "image/png": "[encoded data removed]",
      "text/plain": [
       "<Figure size 432x288 with 1 Axes>"
      ]
     },
     "metadata": {
      "needs_background": "light"
     },
     "output_type": "display_data"
    }
   ],
   "source": [
    "import numpy as np\n",
    "import pylab as pl \n",
    "#the next line is not needed in your canopy environment only my linux one\n",
    "%matplotlib inline \n",
    "\n",
    "#first create the x- range\n",
    "x=np.arange(-5,5,0.1)\n",
    "# then calculate the y \n",
    "y=x*x\n",
    "\n",
    "#produce the plot\n",
    "pl.plot(x,y)\n",
    "\n",
    "#add another line\n",
    "z=10/(1+y)\n",
    "pl.plot(x,z, \"r--\") #note that the \"r--\" draws a dashed red line\n",
    "pl.grid() # adds a grid\n",
    "#make matplotlib display it \n",
    "pl.show()\n"
   ]
  },
  {
   "cell_type": "code",
   "execution_count": 5,
   "metadata": {},
   "outputs": [
    {
     "data": {
      "image/png": "[encoded data removed]",
      "text/plain": [
       "<Figure size 640x480 with 1 Axes>"
      ]
     },
     "metadata": {},
     "output_type": "display_data"
    }
   ],
   "source": [
    "import numpy as np\n",
    "import pylab as pl \n",
    "\n",
    "pl.grid()\n",
    "\n",
    "x=np.arange(-5,5,0.1)\n",
    "y=x*x\n",
    "pl.plot(x,y)\n",
    "\n",
    "z=10/(1+y)\n",
    "pl.plot(x,z, \"r--\") #note that the \"r--\" draws a dashed red line\n",
    "\n",
    "pl.show()\n"
   ]
  },
  {
   "cell_type": "markdown",
   "metadata": {},
   "source": [
    "**Now produce your own plot of $y=e^{-x}\\cos{8x}$ between $0 \\leq x \\leq 10$. Look up how to add a legend, axis labels etc and add them to your plot. I would use google to find these options**"
   ]
  },
  {
   "cell_type": "code",
   "execution_count": 1,
   "metadata": {},
   "outputs": [
    {
     "data": {
      "image/png": "[encoded data removed]",
      "text/plain": [
       "<Figure size 640x480 with 1 Axes>"
      ]
     },
     "metadata": {},
     "output_type": "display_data"
    }
   ],
   "source": [
    "import numpy as np\n",
    "import pylab as pl\n",
    "\n",
    "pl.grid()\n",
    "\n",
    "x = np.arange(0,10,0.001)\n",
    "y = np.exp(-x) * np.cos(8*x)\n",
    "\n",
    "\n",
    "pl.plot(x,y)\n",
    "pl.show()"
   ]
  },
  {
   "cell_type": "markdown",
   "metadata": {},
   "source": [
    "### 2.1 Subplots\n",
    "\n",
    "It is possible to have several plots within the same figure. subplot creates a set of axes in the current figure. The usage of subplot is subplot(numRows, numCols, plotNum). The first two arguments specify the number of rows and columns to divide the figure into. The third argument specifies the subplot number. Subplot numbering proceeds along rows, starting from the top.\n",
    "```python\n",
    ">>> x = np.arange(-5, 5, 0.1)\n",
    ">>> pl.subplot(2, 2, 1)\n",
    ">>> pl.plot(x, np.sin(x), 'r-')\n",
    ">>> pl.subplot(2, 2, 2)\n",
    ">>> pl.plot(x, 2*np.sin(2*x), 'g-')\n",
    ">>> pl.subplot(2, 2, 4)\n",
    ">>> pl.plot(x, np.sin(4*x), 'b-')\n",
    ">>> pl.suptitle('subplots example')\n",
    "```\n",
    "\n",
    "**Try running the above code here**"
   ]
  },
  {
   "cell_type": "code",
   "execution_count": 17,
   "metadata": {},
   "outputs": [
    {
     "data": {
      "text/plain": [
       "Text(0.5, 0.98, 'subplots example')"
      ]
     },
     "execution_count": 17,
     "metadata": {},
     "output_type": "execute_result"
    },
    {
     "data": {
      "image/png": "[encoded data removed]",
      "text/plain": [
       "<Figure size 640x480 with 3 Axes>"
      ]
     },
     "metadata": {},
     "output_type": "display_data"
    }
   ],
   "source": [
    ">>> x = np.arange(-5, 5, 0.1)\n",
    ">>> pl.subplot(2, 2, 1)\n",
    ">>> pl.plot(x, np.sin(x), 'r-')\n",
    ">>> pl.subplot(2, 2, 2)\n",
    ">>> pl.plot(x, 2*np.sin(2*x), 'g-')\n",
    ">>> pl.subplot(2, 2, 4)\n",
    ">>> pl.plot(x, np.sin(4*x), 'b-')\n",
    ">>> pl.sup\n",
    "title('subplots example')"
   ]
  },
  {
   "cell_type": "code",
   "execution_count": 21,
   "metadata": {},
   "outputs": [
    {
     "name": "stdout",
     "output_type": "stream",
     "text": [
      "0.4949165373218478\n",
      "0.045297110084803305\n",
      "0.4301625606208658\n",
      "0.27039576865531423\n",
      "0.7129424279065619\n",
      "0.257547423473817\n",
      "0.0823215704470378\n",
      "0.7386461024740207\n",
      "0.6286140574872621\n",
      "0.1710206205390895\n"
     ]
    }
   ],
   "source": [
    "import numpy.random as nr\n",
    "\n",
    "for i in range(10):\n",
    "    print(nr.random())"
   ]
  },
  {
   "cell_type": "markdown",
   "metadata": {},
   "source": [
    "## 3. Random numbers \n",
    "NumPy includes extensive random number generation functions in the sub package random. (Note, the random package that we used briefly in the last worksheet was the standard Python random package. The NumPy random number generator module provides some similar functionality but is more extensive and of course is better suited for ndarrays.):\n",
    "\n",
    "```python\n",
    "import numpy.random as nr\n",
    "```\n",
    "uniform generates uniformly distributed random numbers between 0 and 1:\n",
    "\n",
    "\n",
    "```python\n",
    ">>> nr.random()\n",
    "0.5133569968526028\n",
    ">>> nr.random((3,4))\n",
    "array([[ 0.55390318,  0.14075115,  0.79462981,  0.1840195 ],\n",
    "       [ 0.83589994,  0.80413282,  0.67068063,  0.11911398],\n",
    "       [ 0.21330345,  0.33990581,  0.46677485,  0.73915839]])\n",
    ">>> hist (nr.random(10000))\n",
    "(array([ 990, 1010,  959,  940, 1038, 1048, 1006, 1069,  968,  972]), array([  2.47566340e-05,   1.00017721e-01,   2.00010685e-01,\n",
    "         3.00003649e-01,   3.99996614e-01,   4.99989578e-01,\n",
    "         5.99982542e-01,   6.99975507e-01,   7.99968471e-01,\n",
    "         8.99961435e-01,   9.99954399e-01]), <a list of 10 Patch objects>)\n",
    "```\n",
    "where we have used matplotlib’s histogram plot hist in the last command.\n",
    "\n",
    "To create arrays of normal (Gaussian) distributed random numbers:\n",
    "```python\n",
    ">>> nr.normal(size=(3,4))\n",
    "array([[-1.3402105 ,  0.60089515, -0.44044378,  0.47834355],\n",
    "       [-1.98082936, -0.78539735,  0.58220912, -1.01755018],\n",
    "       [ 0.58409198, -0.19350785,  1.09734579, -1.87524015]])\n",
    ">>> nr.normal(loc=3.0,scale=2.0,size=100)\n",
    "array([ 1.84268137,  1.37651611,  4.70112346,  2.28189392,  5.98261002,\n",
    "        5.60113428, -0.22926827, -0.89221363,  5.05656594,  4.2169493 ,\n",
    "        1.13459204,  7.49486032,  3.69425421,  3.59954893,  1.4092735 ,\n",
    "...\n",
    ">>> hist(nr.normal(loc=5.0,scale=3.0,size=10000),30);\n",
    "```\n",
    "See help for more details.\n",
    "\n",
    "**Create an array of 1000 exponentially distributed numbers with mean 10.0 and plot a histogram of them using 100 bins. What is the sample mean of your array?(Hint: You will need to look up how to make histograms with matplotlib)**\n"
   ]
  },
  {
   "cell_type": "code",
   "execution_count": 28,
   "metadata": {
    "scrolled": true
   },
   "outputs": [
    {
     "ename": "NameError",
     "evalue": "name 'hist' is not defined",
     "output_type": "error",
     "traceback": [
      "\u001b[1;31m---------------------------------------------------------------------------\u001b[0m",
      "\u001b[1;31mNameError\u001b[0m                                 Traceback (most recent call last)",
      "Cell \u001b[1;32mIn[28], line 3\u001b[0m\n\u001b[0;32m      1\u001b[0m \u001b[38;5;28;01mimport\u001b[39;00m \u001b[38;5;21;01mnumpy\u001b[39;00m\u001b[38;5;21;01m.\u001b[39;00m\u001b[38;5;21;01mrandom\u001b[39;00m \u001b[38;5;28;01mas\u001b[39;00m \u001b[38;5;21;01mnr\u001b[39;00m\n\u001b[1;32m----> 3\u001b[0m \u001b[38;5;28mprint\u001b[39m(hist (nr\u001b[38;5;241m.\u001b[39mrandom(\u001b[38;5;241m10000\u001b[39m)))\n",
      "\u001b[1;31mNameError\u001b[0m: name 'hist' is not defined"
     ]
    }
   ],
   "source": [
    "import numpy.random as nr\n",
    "\n",
    "nr.\n",
    "print(hist(nr.random(10000)))"
   ]
  },
  {
   "cell_type": "markdown",
   "metadata": {},
   "source": [
    "## 4. Complex numbers in Python / NumPy\n",
    "Note: We are aware that some of you have had more exposure to complex numbers than others and so we have included the most basic introduction to them. Don’t worry if you have not covered these at all yet, you will soon be using them in many courses and they will become completely familiar to you. For those who have never seen them before we have written the most basic introduction to complex numbers.\n",
    "\n",
    "### 4.1 Basic introduction to complex numbers\n",
    "This is the most basic introduction to complex numbers. It should be skipped if you are familiar with them.\n",
    "\n",
    "You will already know that there is no real solution to equations which involve the square roots of negative numbers. We can however express them in terms of imaginary number i where:\n",
    "\n",
    "$i=\\sqrt{-1}$\n",
    "A complex number, z, will then have a real part, a, and an imaginary part, bi, such that z=a+bi. Clearly, any imaginary number can be expressed as a point on a plane with the real component along one axis and the imaginary part along the other. The real axis is often denoted by the letter ℜ and the imaginary axis by the letter ℑ. Such a diagram is known as an Argand diagram after the amateur mathematician who first described imaginary numbers in this geometrical manner in 1806.\n",
    "\n",
    "![Argand diagram](images/argand.png)\n",
    "\n",
    "An Argand diagram showing the representation of a number in the complex plane.\n",
    "\n",
    "Clearly $z=r(\\cos\\theta+i \\sin\\theta)$, where r and $\\theta$ are defined in the figure above.\n",
    "\n",
    "Using series expansions it is easy to show that $e^{i\\theta}=\\cos\\theta + i\\sin\\theta$ and so $z=re^{i\\theta}$.\n",
    "\n",
    "The magnitude of the complex number (denoted $|z|$) is given by the value of $r=\\sqrt{a^2 +b^2}$ which is just $r=\\sqrt{(a+ib)(a-ib)}$. Here $a-ib$ is called the complex conjugate of z and is often denoted $z^\\ast$ (sometimes $\\overline{z}$). So $r^2=z z^\\ast$.\n",
    "\n",
    "Because $e^{ix}=\\cos x +i \\sin x$ it is also possible to define cos and sin for complex numbers as $\\cos x = \\frac{e^{ix}+e^{-ix}}{2}$ and $\\sin x =\\frac{e^{ix}-e^{-ix}}{2i}$. There are also ways of defining other operations such as the logarithm of a complex number, etc.\n"
   ]
  },
  {
   "cell_type": "markdown",
   "metadata": {},
   "source": [
    "Complex numbers are built into Python however in order to manipulate them you often need to use the functions built into NumPy. The only slightly unusual feature is that while physicists and mathematicians use the symbol $i$ to refer to $\\sqrt{-1}$, engineers call it $j$ and Python follows the engineers rather than the physicists.\n",
    "\n",
    "So a complex number can be defined as\n",
    "```python\n",
    ">>> import numpy\n",
    ">>> z=3+4j\n",
    "```\n",
    "(NOTE: to get just imaginary $j$ one must type 1$j$ or 1.0$j$. Don’t just type $j$ as Python interprets that as a variable name!)\n",
    "\n",
    "To find the angle $\\theta$ and magnitude (or absolute value) $|z|$ you can use\n",
    "```python\n",
    ">>> numpy.angle(z)\n",
    "0.92729521800161219\n",
    ">>> numpy.absolute(z)\n",
    "5.0\n",
    "```\n",
    "as you might expect\n",
    "\n",
    "```python\n",
    ">>> numpy.sqrt(z*numpy.conj(z))\n",
    "(5+0j)\n",
    "```\n",
    "\n",
    "**Take a few minutes to investigate the use of complex numbers in NumPy. Try defining a complex number z and confirm that it gives the answers that you would expect for things like $z*z$, $\\sin{z}$, etc.**"
   ]
  },
  {
   "cell_type": "code",
   "execution_count": null,
   "metadata": {
    "scrolled": true
   },
   "outputs": [],
   "source": []
  },
  {
   "cell_type": "markdown",
   "metadata": {},
   "source": [
    "## 5. Using SciPy functionality\n",
    "\n",
    "NumPy provides a core of general purpose numerical functionality, and in particular for working with multi dimensional arrays. SciPy is much broader. It is built from a collection of various packages, or toolboxes, that are designed to perform more specialised tasks. Many of the SciPy packages themselves use NumPy as a base. These tools are wrapped together in such a way that they can all interoperate with each other (and with NumPy) making SciPy a very powerful suite of tools.\n",
    "\n",
    "**Note Because of the relationship of SciPy to NumPy, much of the NumPy functionality and names are also accessible directly from SciPy namespaces. The NumPy routines are imported directly into SciPy, so in most cases when you use the name in the SciPy namespace, you are actually using NumPy routine. There are exceptions, in particular for the linear algebra routines. SciPy has its own linear algebra routines which are more powerful and advanced than those provided by NumPy. In general, it is simplest to use use the SciPy namespace as this is generally the more optimised library where there are such differences.**"
   ]
  },
  {
   "cell_type": "markdown",
   "metadata": {},
   "source": [
    "### 5.1 Solving Systems of Ordinary Differential Equations\n",
    "\n",
    "SciPy has several functions for solving sets of first order ODE given a set of initial conditions. The simplest of which (and which we recommend that you use) is odeint which is part of the scipy.integrate package.\n",
    "\n",
    "Many physical problems are described by higher (at least second) order ODE, however these can always be written down as a set of first order ODE. For example, through Newton’s second law, the position of an object is related to the force that it experiences by a second order ODE, however it can be written as a set of two first order ODE. I.e. for a force \\(f(x)\\) on a body of mass \\(m\\) we have\n",
    "\n",
    "\\begin{equation*}\\frac{d^2x}{dt^2} = f(x)/m\\end{equation*}\n",
    "but this can be rewritten as the set of first order ODE\n",
    "\n",
    "\\begin{equation*}\\frac{dv}{dt}=f(x)/m \\\\ \\frac{dx}{dt}= v\\end{equation*}\n",
    "In order to use the ODE integrator you will have define a function whose calling arguments are variables to be differentiated and the variable with respect to which they will be differentiated. You will also need to specify the initial conditions\n",
    "\n",
    "Lets us consider the simple example of a particle moving in one dimension under gravity at the earth’s surface, with an initial velocity of $+50ms^{-1}$ (which we define to be upwards so that gravity is in the negative direction), Then we might simulate this with the following code:\n",
    "\n",
    "**try running this code**"
   ]
  },
  {
   "cell_type": "code",
   "execution_count": 32,
   "metadata": {
    "scrolled": true
   },
   "outputs": [
    {
     "name": "stdout",
     "output_type": "stream",
     "text": [
      "   x values        v values    \n",
      "[[   0.           50.        ]\n",
      " [   7.46326905   48.51515152]\n",
      " [  14.70156107   47.03030303]\n",
      " [  21.71487603   45.54545455]\n",
      " [  28.50321396   44.06060606]\n",
      " [  35.06657484   42.57575758]\n",
      " [  41.40495868   41.09090909]\n",
      " [  47.51836547   39.60606061]\n",
      " [  53.40679522   38.12121212]\n",
      " [  59.07024793   36.63636364]\n",
      " [  64.5087236    35.15151515]\n",
      " [  69.72222222   33.66666667]\n",
      " [  74.7107438    32.18181818]\n",
      " [  79.47428834   30.6969697 ]\n",
      " [  84.01285583   29.21212121]\n",
      " [  88.32644628   27.72727273]\n",
      " [  92.41505969   26.24242424]\n",
      " [  96.27869605   24.75757576]\n",
      " [  99.91735537   23.27272727]\n",
      " [ 103.33103765   21.78787879]\n",
      " [ 106.51974288   20.3030303 ]\n",
      " [ 109.48347107   18.81818182]\n",
      " [ 112.22222222   17.33333333]\n",
      " [ 114.73599633   15.84848485]\n",
      " [ 117.02479339   14.36363636]\n",
      " [ 119.08861341   12.87878788]\n",
      " [ 120.92745638   11.39393939]\n",
      " [ 122.54132231    9.90909091]\n",
      " [ 123.9302112     8.42424242]\n",
      " [ 125.09412305    6.93939394]\n",
      " [ 126.03305785    5.45454545]\n",
      " [ 126.74701561    3.96969697]\n",
      " [ 127.23599633    2.48484848]\n",
      " [ 127.5           1.        ]\n",
      " [ 127.53902663   -0.48484848]\n",
      " [ 127.35307622   -1.96969697]\n",
      " [ 126.94214876   -3.45454545]\n",
      " [ 126.30624426   -4.93939394]\n",
      " [ 125.44536272   -6.42424242]\n",
      " [ 124.35950413   -7.90909091]\n",
      " [ 123.0486685    -9.39393939]\n",
      " [ 121.51285583  -10.87878788]\n",
      " [ 119.75206612  -12.36363636]\n",
      " [ 117.76629936  -13.84848485]\n",
      " [ 115.55555556  -15.33333333]\n",
      " [ 113.11983471  -16.81818182]\n",
      " [ 110.45913682  -18.3030303 ]\n",
      " [ 107.57346189  -19.78787879]\n",
      " [ 104.46280992  -21.27272727]\n",
      " [ 101.1271809   -22.75757576]\n",
      " [  97.56657484  -24.24242424]\n",
      " [  93.78099174  -25.72727273]\n",
      " [  89.77043159  -27.21212121]\n",
      " [  85.5348944   -28.6969697 ]\n",
      " [  81.07438017  -30.18181818]\n",
      " [  76.38888889  -31.66666667]\n",
      " [  71.47842057  -33.15151515]\n",
      " [  66.34297521  -34.63636364]\n",
      " [  60.9825528   -36.12121212]\n",
      " [  55.39715335  -37.60606061]\n",
      " [  49.58677686  -39.09090909]\n",
      " [  43.55142332  -40.57575758]\n",
      " [  37.29109275  -42.06060606]\n",
      " [  30.80578512  -43.54545455]\n",
      " [  24.09550046  -45.03030303]\n",
      " [  17.16023875  -46.51515152]\n",
      " [  10.          -48.        ]\n",
      " [   2.61478421  -49.48484848]\n",
      " [  -4.99540863  -50.96969697]\n",
      " [ -12.83057851  -52.45454545]\n",
      " [ -20.89072544  -53.93939394]\n",
      " [ -29.1758494   -55.42424242]\n",
      " [ -37.68595041  -56.90909091]\n",
      " [ -46.42102847  -58.39393939]\n",
      " [ -55.38108356  -59.87878788]\n",
      " [ -64.5661157   -61.36363636]\n",
      " [ -73.97612489  -62.84848485]\n",
      " [ -83.61111111  -64.33333333]\n",
      " [ -93.47107438  -65.81818182]\n",
      " [-103.55601469  -67.3030303 ]\n",
      " [-113.86593205  -68.78787879]\n",
      " [-124.40082645  -70.27272727]\n",
      " [-135.16069789  -71.75757576]\n",
      " [-146.14554637  -73.24242424]\n",
      " [-157.3553719   -74.72727273]\n",
      " [-168.79017447  -76.21212121]\n",
      " [-180.44995409  -77.6969697 ]\n",
      " [-192.33471074  -79.18181818]\n",
      " [-204.44444444  -80.66666667]\n",
      " [-216.77915519  -82.15151515]\n",
      " [-229.33884298  -83.63636364]\n",
      " [-242.12350781  -85.12121212]\n",
      " [-255.13314968  -86.60606061]\n",
      " [-268.3677686   -88.09090909]\n",
      " [-281.82736455  -89.57575758]\n",
      " [-295.51193756  -91.06060606]\n",
      " [-309.4214876   -92.54545455]\n",
      " [-323.55601469  -94.03030303]\n",
      " [-337.91551882  -95.51515152]\n",
      " [-352.5         -97.        ]]\n"
     ]
    },
    {
     "data": {
      "image/png": "[encoded data removed]",
      "text/plain": [
       "<Figure size 640x480 with 1 Axes>"
      ]
     },
     "metadata": {},
     "output_type": "display_data"
    },
    {
     "data": {
      "image/png": "[encoded data removed]",
      "text/plain": [
       "<Figure size 640x480 with 1 Axes>"
      ]
     },
     "metadata": {},
     "output_type": "display_data"
    }
   ],
   "source": [
    "import scipy as sp\n",
    "import numpy as np\n",
    "import pylab as pl\n",
    "import scipy.integrate as spi\n",
    "%matplotlib inline \n",
    "\n",
    "g=9.8 #define local gravity\n",
    "\n",
    "#called with the variables to be differentiated\n",
    "def f(values_at_t, t):\n",
    "  x=values_at_t[0]\n",
    "  v=values_at_t[1]\n",
    "  \n",
    "  a=-g #don't forget it is in the negative direction\n",
    "  return [v,a]\n",
    "#returns differentiated values\n",
    "\n",
    "\n",
    "t=np.linspace(0.,15.,100) # solving every tenth of a second - more than is needed. You could have used arange here but try looking uplinspace.\n",
    "\n",
    "# set initial conditions going up at 50 ms^-1 starting at ground level\n",
    "values_at_0=[0.,50]\n",
    "\n",
    "\n",
    "soln=spi.odeint(f,values_at_0,t) # function name, initial conditions and timesteps\n",
    "\n",
    "print(\"   x values   \", \"    v values    \")\n",
    "print(soln)\n",
    "\n",
    "x_all=soln[:,0]\n",
    "v_all=soln[:,1]\n",
    "\n",
    "\n",
    "pl.figure(0)\n",
    "pl.plot(t,x_all)\n",
    "pl.xlabel(\"time (s)\")\n",
    "pl.ylabel(\"height (m)\")\n",
    "\n",
    "pl.figure(1)\n",
    "pl.plot(t,v_all)\n",
    "pl.xlabel(\"time (s)\")\n",
    "pl.ylabel(\"Velocity (m/s)\")\n",
    "\n",
    "pl.show()"
   ]
  },
  {
   "cell_type": "markdown",
   "metadata": {},
   "source": [
    "### 5.2 Optimisation\n",
    "\n",
    "#### 5.2.1 minimisation\n",
    "\n",
    "You know how to minimise and maximise analytical functions that you can (doubly) differentiate, however you will often encounter complex systems that cannot be differentiated analytically and for these you need numerical techniques. Numerical techniques for optimization (almost always) in practise mean numerical techniques for minimisation. If your problem requires you to maximise a function then, in general, you redefine the problem so that you end up minimising something else. Numerical optimisation is an interesting and complicated area. SciPy has an optimize module that contains a plethora of different methods. However, until you become an expert, we suggest that you only use some of the main functions. A basic minimization function in the current release is fmin. It does not use derivatives so can be used in cases where you don’t know. The numerical optimization starts at an initial guess and then iterates to a minimum. A simple 1-dimensional example illustrates this.\n",
    "\n",
    "```python\n",
    "#!/usr/bin/python\n",
    "\n",
    "import scipy as sp\n",
    "import scipy.optimize as spo\n",
    "\n",
    "#define the function to be minimised\n",
    "\n",
    "def func1(x):\n",
    "     return x**2+x\n",
    "\n",
    "#now minimise with a starting guess of 1\n",
    "\n",
    "x=spo.fmin(func1,1)\n",
    "\n",
    "print(x)\n",
    "```\n",
    "This produces the following output:\n",
    "```python\n",
    "[-0.5]\n",
    "```\n",
    "**Modify func1 so that it also prints out the value x that it is called with and run the optimization again. (For details of how fmin works use help(spo.fmin).)**"
   ]
  },
  {
   "cell_type": "code",
   "execution_count": null,
   "metadata": {},
   "outputs": [],
   "source": []
  },
  {
   "cell_type": "markdown",
   "metadata": {},
   "source": [
    "**Try to minimise the function $x^4-5x^3-20x^2+50x$ with an initial guesses of -4. Now try the same process with an initial guess of 3. Plot the function and mark on it the initial guesses and the minima found in each case. Explain what has happened. What conclusions can you draw about how to use fmin.?\n",
    "(Warning: fmin is a case where the SciPy and NumPy names refer to different functions: SciPy’s fmin is not the same as the fmin in NumPy.)**"
   ]
  },
  {
   "cell_type": "code",
   "execution_count": null,
   "metadata": {},
   "outputs": [],
   "source": []
  },
  {
   "cell_type": "markdown",
   "metadata": {},
   "source": [
    "fmin can also be used to minimise functions in more than one dimension (which is why the output was actually an array.). This can be very useful and powerful in research but has not traditionally featured heavily in undergraduate courses (probably because students have not been given the tools with which to perform these minimisations). Below is a simple example to minimise a 2-dimensional function.\n",
    "\n",
    "\n",
    "```python\n",
    "#!/usr/bin/python\n",
    "\n",
    "import scipy as sp\n",
    "import scipy.optimize as spo\n",
    "import numpy.random as npr\n",
    "import pylab as pl\n",
    "\n",
    "###########################################################\n",
    "# An example to minimise in more that one dimension.\n",
    "#\n",
    "# DJC - 14/08/2012\n",
    "###########################################################\n",
    "\n",
    "#define the function to be minimised\n",
    "\n",
    "def func2(x):\n",
    "    return (x[0]+1)**2+(x[1]-1)**2   \n",
    "# Note: x[0] and x[1] are the 1st and 2nd element of the array x and correspond to x and y in your 2D function\n",
    "\n",
    "\n",
    "# the initial guess\n",
    "xi=[0,0]\n",
    "\n",
    "# minimise in 2-D and set the calling arguments to be 2 and 5\n",
    "xm=spo.fmin(func2,xi)\n",
    "\n",
    "print(\"With initial guess \",xi,\" the minimisation gives \",xm)\n",
    "```\n",
    "which produces the output\n",
    "```\n",
    "With initial guess  [0, 0]  the minimisation gives  [ 1.00002268 6.00001391]\n",
    "```\n",
    "**Find the minimum of the 2-D function $\\sin(xy+y)\\exp[-(x^2+y^2)]$**"
   ]
  },
  {
   "cell_type": "code",
   "execution_count": null,
   "metadata": {},
   "outputs": [],
   "source": []
  },
  {
   "cell_type": "markdown",
   "metadata": {},
   "source": [
    "### 5.2.2 Line fitting\n",
    "\n",
    "Although numerical optimisation is very common in research it has traditionally only played a minor part in the undergraduate teaching (perhaps because of the lack of training with packages like SciPy.) However, it is very useful for fitting experimental data to a theoretical model.\n",
    "\n",
    "Here is a simple example where a function of the form $ax^2+c$ is fitted to some experimental data. Note that curve_fit requires you to make an initial guess. It returns both the fitted values and the covariance matrix, which contains the estimate for the error of the fit.\n",
    "\n",
    "\n",
    "```python\n",
    "import numpy as np\n",
    "import scipy.optimize as spo\n",
    "import pylab as pl\n",
    "\n",
    "#########################################\n",
    "# A fitting example\n",
    "#\n",
    "# DJC - 07/09/2012\n",
    "###########################################\n",
    "\n",
    "#create the function that you want fit to the curve\n",
    "def fit_func(x,a,c):\n",
    "   return a*x**2  +c\n",
    "\n",
    "#Now for some fake data and errors\n",
    "x=np.arange(0,5)\n",
    "y=[10,15,19,22,33]\n",
    "y_err=np.sqrt(y)\n",
    "\n",
    "#now fit the data\n",
    "initial_guess=[1,0]\n",
    "po,po_cov=spo.curve_fit(fit_func, x, y, initial_guess, y_err)\n",
    "\n",
    "print(\"The parameters\")\n",
    "print(po)\n",
    "print('The covariance matrix')\n",
    "print(po_cov)\n",
    "print(\"So the values with errors are:\")\n",
    "print(\"a= \",po[0],\" +/- \",np.sqrt(po_cov[0,0]))\n",
    "print(\"c= \",po[1],\" +/- \",np.sqrt(po_cov[1,1]))\n",
    "\n",
    "pl.errorbar(x, y, yerr=y_err, fmt='ro',label=\"Simulated measured data\")\n",
    "xx=np.arange(-0.5,4.5,0.1) \n",
    "pl.plot(xx,fit_func(xx,po[0],po[1]),'r-',label='Fit results')\n",
    "pl.xlabel(\"x\")\n",
    "pl.ylabel(\"y\")\n",
    "pl.grid(1)\n",
    "pl.show()\n",
    "```\n",
    "This produces the following output:\n",
    "\n",
    "```\n",
    "The parameters\n",
    "[  1.31875629  11.71155273]\n",
    "The covariance matrix\n",
    "[[ 0.03807704 -0.15113498]\n",
    " [-0.15113498  1.5935344 ]]\n",
    "So the values with errors are:\n",
    "a=  1.31875628915  +/-  0.195133390558\n",
    "c=  11.711552728  +/-  1.26235272382\n",
    "```\n",
    "![fit example](images/fitexample.png)<br>\n",
    " \n",
    "**The data plotted below, shows what we think to be a Gaussian “feature” in a scanning experiment. (It could be a spectral line in optics or a mass scan in particle physics or many other physical situations). This “feature” sits on top of a background. You can assume background is linear, but not necessarily flat. Estimate the amplitude and width of the Gaussian feature.**\n",
    "\n",
    "![simulated data](images/Worksheet_2b-1.png)\n",
    "    \n",
    "```python\n",
    "import numpy as np\n",
    "x = np.array([ 100.,  101.,  102.,  103.,  104.,  105.,  106.,  107.,  108.,\n",
    "               109.,  110.,  111.,  112.,  113.,  114.,  115.,  116.,  117.,\n",
    "               118.,  119.,  120.,  121.,  122.,  123.,  124.,  125.,  126.,\n",
    "               127.,  128.,  129.,  130.,  131.,  132.,  133.,  134.,  135.,\n",
    "               136.,  137.,  138.,  139.,  140.,  141.,  142.,  143.,  144.,\n",
    "               145.,  146.,  147.,  148.,  149.])\n",
    "y = np.array([ 49.62351587,  53.28471702,  70.91469338,  59.347993  ,\n",
    "               68.14021339,  47.96831052,  46.27111237,  47.75670421,\n",
    "               54.27684285,  49.79369344,  41.06072665,  43.95823631,\n",
    "               47.32189537,  57.59658829,  45.18881389,  56.58866369,\n",
    "               50.1240723 ,  42.6683265 ,  41.92068127,  25.85132307,\n",
    "               46.60808952,  38.07772697,  56.7941344 ,  72.65808868,\n",
    "               54.94790233,  84.97532661,  82.91663574,  54.97400141,\n",
    "               33.05466879,  31.07916615,  30.20075973,  23.87661428,\n",
    "               21.81024528,  28.83273888,  17.92903416,  27.57351836,\n",
    "               25.05685919,  27.4866161 ,  31.13142432,  20.26710321,\n",
    "               16.80327091,  14.1787744 ,  20.52320243,  22.65700337,\n",
    "               16.23164708,  11.78551076,  15.21441115,  12.58749491,\n",
    "               12.88956241,   6.24572757])\n",
    "y_error = np.array([ 7.74596669,  7.68114575,  7.61577311,  7.54983444,  7.48331477,\n",
    "                     7.41619849,  7.34846923,  7.28010989,  7.21110255,  7.14142843,\n",
    "                     7.07106781,  7.        ,  6.92820323,  6.85565464,  6.78233068,\n",
    "                     6.70821365,  6.63335528,  6.55833372,  6.48664491,  6.43341394,\n",
    "                     6.44498198,  6.61337546,  7.02586908,  7.63076491,  8.17847123,\n",
    "                     8.36660027,  8.05527104,  7.36400523,  6.58504642,  5.97802099,\n",
    "                     5.61585191,  5.42114516,  5.29873213,  5.1972821 ,  5.09915702,\n",
    "                     5.00001304,  4.89898045,  4.79583158,  4.69041576,  4.5825757 ,\n",
    "                     4.47213596,  4.35889894,  4.24264069,  4.12310563,  4.        ,\n",
    "                     3.87298335,  3.74165739,  3.60555128,  3.46410162,  3.31662479])\n",
    "```\n",
    "You should be able cut and paste these data into your scripts. \n",
    "Note You should be aware that the functions within the optimize package are evolving. This means that while what you have learnt so far will still work, more powerful and easier to use functions may become available in future releases, so keep an eye out for them.\n",
    "\n",
    "**Try fitting the above data**"
   ]
  },
  {
   "cell_type": "code",
   "execution_count": null,
   "metadata": {},
   "outputs": [],
   "source": []
  },
  {
   "cell_type": "markdown",
   "metadata": {},
   "source": [
    "---\n",
    "---\n",
    "\n",
    "# Everything after this point is an optional extra. I suggest that you pick a few areas in which you are interested and try to explore them."
   ]
  },
  {
   "cell_type": "markdown",
   "metadata": {},
   "source": [
    "## Numerical integration\n",
    "It is always very satisfying to be able to integrate a function analytically, however there many integrals that turn out to be very difficult and tedious to integrate analytically and many that are simply impossible. For these SciPy has a range of numerical integrators. You have probably heard of or even used the trapezium rule and Simpson’s rule for numerical integration. Both of these are available through SciPy, but the default is a function called quad which is part of the scipy.integrate set of functions. (If you want to know how it works do a web search for QUADPACK on which it is based.) The first calling argument is the function to be integrated and the second and third arguments are the limits of integration. What is returned is a tuple which has the value of the integration as its first element and an upper bound on the error as the second. Try the test example below:\n",
    "```python\n",
    ">>> import numpy as np\n",
    ">>> import scipy.integrate as spi\n",
    ">>> results=spi.quad(np.sin,0.,0.5*np.pi)\n",
    ">>> print(results)\n",
    "(0.9999999999999999, 1.1102230246251564e-14)\n",
    ">>> results[0]-1\n",
    "-1.1102230246251565e-16\n",
    "```\n",
    "You can of course supply your own function to integrate. If the function you want to integrate takes more than one argument, it is integrated along the axis of the first argument. You should use the keyword argument args to specify the values of the other arguments to the integrand. For example:\n",
    "```python\n",
    "import scipy.integrate as spi\n",
    "\n",
    "def my_func(x,n,c):\n",
    "   return -n*x*x+c\n",
    "\n",
    "\n",
    "print(my_func(1,1,3))\n",
    "print(my_func(1,5,1))\n",
    "\n",
    "result=spi.quad(my_func,0,1,args=(2,1))\n",
    "\n",
    "print(result)\n",
    "```\n",
    "If you add a print statement inside the function being integrated you can see the values with which it is being called. If you include the variable over which you are integrating you can begin to see how the algorithm actually works.\n",
    "\n",
    "**Try using quad to integrate the following functions:\n",
    "$\\frac{1}{x}$, with different sets of integration limits [1,10], [0,1]\n",
    "$\\frac{1}{x^2}, [1,\\infty]$,\n",
    "(Hint: read the help for quad but note there is a typo in this version of the documentation: “scipy.integrate.Inf” should read “scipy.Inf”)\n",
    "$\\frac{1}{x^2}$ [-1,1]\n",
    "$\\tan{x}$ with different limits: [0,1], [1, $\\frac{\\pi}{2}$ ], [0,$\\pi$]\n",
    "Compare you results with what you would expect. Do you encounter any problems with any of these integrals? What are your conclusions about how and when to use quad?**"
   ]
  },
  {
   "cell_type": "code",
   "execution_count": null,
   "metadata": {},
   "outputs": [],
   "source": []
  },
  {
   "cell_type": "markdown",
   "metadata": {},
   "source": [
    "You will sometimes find that you need to integrate over two or three variables, for double and triple integrations. For these you can use the `dblquad` and `tplquad`. These are slightly more complicated to use and we suggest that you use the help function to investigate the calling arguments if you need to use them.\n",
    "\n",
    "---\n",
    "*Very optional:*\n",
    "\n",
    "**Try to perform the following double integral $\\int_0^1 \\int_0^1 \\cos{(x^2 +y^3)} dxdy$ using dblquad. Check the answer with a demonstrator.\n",
    "Hint: Some of the more adventurous may want to look up how to use lambda functions in Python if you have not already done so.**\n",
    "\n",
    "---"
   ]
  },
  {
   "cell_type": "code",
   "execution_count": null,
   "metadata": {},
   "outputs": [],
   "source": []
  },
  {
   "cell_type": "markdown",
   "metadata": {},
   "source": [
    "## Linear algebra\n",
    "Linear algebra is the branch of mathematics that concerns operations in vector spaces. In practise this means lots of matrix manipulation. At this stage in your career you might be asking yourself what this has to do with physics? You will learn that it is actually quite a lot. Whether you are calculating normal modes of a coupled oscillator, solving sets of linear equations, performing rotations about symmetries in particle physics or simply working out solutions to the Dirac equation you will be using matrices. If you study foundations of quantum mechanics you will find that quantum mechanics is really all about vector spaces.\n",
    "\n",
    "You may not have not come across matrices before. Don’t worry, you will soon have done a course on them. If you get to this point before the course then we have prepared the briefest of crib sheets for you here.\n",
    "\n",
    "Just as a small example, consider a position vector r which has coordinates of $(x,y)$ in your local coordinate system. If you then rotate (yourself and you coordinate system) through an angle $\\theta$ but r is unmoved then it will now have coordinates of $(x',y')$. This is shown in the figure below\n",
    "\n",
    "![rotation](images/rotation1.png)\n",
    "Rotating the axis in a 2-Dimensional plane.\n",
    "\n",
    "The new coordinates are related to the old coordinates as\n",
    "\n",
    "\\begin{equation*}\\begin{split}x\\cos{\\theta}+y\\sin{\\theta} = x' \\\\ -x\\sin{\\theta}+y\\cos{\\theta}= y'\\end{split}\\end{equation*}\n",
    "which it is convenient to write as a matrix equation\n",
    "\n",
    "\\begin{equation*}\\begin{split}\\left( \\begin{array}{cc} \\cos{\\theta} & \\sin{\\theta} \\\\ -\\sin{\\theta} & \\cos{\\theta} \\end{array} \\right) \\left( \\begin{array}{c} x \\\\ y \\end{array} \\right) = \\left( \\begin{array}{c} x' \\\\ y' \\end{array} \\right)\\end{split}\\end{equation*}\n",
    "\n",
    "This matrix equation then applies for any rotation of angle ($\\theta$). This approach can easily be generalised to three dimensions or, when dealing with more abstract spaces, to as many dimensions as you like.\n",
    "\n",
    "We will take you through some of the more common matrix operations. (These will be more meaningful when you have used them in solving physics problems.)\n",
    "\n",
    "\n",
    "### Handling matrices\n",
    "NumPy (and hence SciPy) has functionality for handling and manipulating matrices efficiently. Creating and manipulating matrices in NumPy is very similar to the NumPy arrays that we have already encountered, although there are some key differences in how they behave. There are a number of different different ways of defining matrices, so each of the methods below work.\n",
    "```python\n",
    ">>> import numpy as np\n",
    ">>> import scipy as sp\n",
    ">>> x=sp.matrix([[1,2],[3,4]])\n",
    ">>> x\n",
    "matrix([[1, 2],\n",
    "        [3, 4]])\n",
    ">>> y=sp.matrix('5 6 ; 7 8')\n",
    ">>> y\n",
    "matrix([[5, 6],\n",
    "        [7, 8]])\n",
    ">>> a=np.array([[2,3],[4,5]])\n",
    ">>> z=sp.mat(a)\n",
    ">>> z\n",
    "matrix([[2, 3],\n",
    "        [4, 5]])\n",
    "```\n",
    "You can then do all the basic matrix operations that you would expect. For example:\n",
    "```python\n",
    ">>> x*y\n",
    "matrix([[19, 22],\n",
    "        [43, 50]])\n",
    ">>> x+y\n",
    "matrix([[ 6,  8],\n",
    "        [10, 12]])\n",
    ">>> x-y\n",
    "matrix([[-4, -4],\n",
    "        [-4, -4]])\n",
    ">>> x=y\n",
    ">>> x\n",
    "matrix([[5, 6],\n",
    "        [7, 8]])\n",
    "```\n",
    "\n",
    "**Write a function that returns a 2x2 matrix to perform a coordinate rotation of $\\theta$. Use it to create the 2x2 matrices R1, R2, R3 that perform coordinate rotations of $\\frac{\\pi}{4}$, $\\frac{\\pi}{2}$ and $\\pi$ respectively. Check how they multiply, e.g., R1*R1, R1*R1*R1*R1, R2*R2, R3*R3. Are the results what you would expect?**"
   ]
  },
  {
   "cell_type": "code",
   "execution_count": null,
   "metadata": {},
   "outputs": [],
   "source": []
  },
  {
   "cell_type": "markdown",
   "metadata": {},
   "source": [
    "Although they may look similar, it is important to note that matrices are different from 2-D NumPy arrays that we have already encountered. This will be illustrated in the following tasks.\n",
    "\n",
    "Differences between 2-D arrays and matrices:\n",
    "\n",
    "**Create a 2-D array A and the equivalent matrix B as:**\n",
    "```python\n",
    "A=array([[1, 2], [3, 4]])\n",
    "B=mat(A)\n",
    "```\n",
    "**Now compare $A+A$ with $B+B$, $A\\ast A$ with $B\\ast B$ and $A\\ast \\ast 2$ and $B\\ast \\ast 2$.\n",
    "What is the difference between how array and matrix behave?**"
   ]
  },
  {
   "cell_type": "code",
   "execution_count": null,
   "metadata": {},
   "outputs": [],
   "source": []
  },
  {
   "cell_type": "markdown",
   "metadata": {},
   "source": [
    "Mixing matrices and arrays:\n",
    "\n",
    "**Taking A and B from the example above try $A\\ast B$ and $B\\ast A$. What does this tell you about how SciPy handles mixtures of 2-D arrays and matrices?**"
   ]
  },
  {
   "cell_type": "code",
   "execution_count": null,
   "metadata": {},
   "outputs": [],
   "source": []
  },
  {
   "cell_type": "markdown",
   "metadata": {},
   "source": [
    "### Finding the inverse of a matrix\n",
    "Finding the inverse of a large matrix can be extremely time consuming when done by hand. Fortunately, the inv function of the scipy.linalg package can do this for you. Note that inv returns an array (not a matrix).\n",
    "\n",
    "Consider the following example:\n",
    "```python\n",
    ">>> import scipy as sp\n",
    ">>> import scipy.linalg as spla\n",
    ">>> x=sp.matrix('1 3 5 ; 2 5 1 ; 2 3 8')\n",
    ">>> x\n",
    "matrix([[1, 3, 5],\n",
    "        [2, 5, 1],\n",
    "        [2, 3, 8]])\n",
    ">>> xi=spla.inv(x)\n",
    ">>> xi\n",
    "array([[-1.48,  0.36,  0.88],\n",
    "       [ 0.56,  0.08, -0.36],\n",
    "       [ 0.16, -0.12,  0.04]])\n",
    ">>> (x*xi).round()\n",
    "matrix([[ 1., -0.,  0.],\n",
    "        [ 0.,  1.,  0.],\n",
    "        [ 0., -0.,  1.]])\n",
    "```\n",
    "Why are the off diagonal elements in the final result (before rounding) not exactly zero? If you don’t know the answer please ask a demonstrator.\n",
    "\n",
    "**Calculate inverses of your rotation matrices, $R^{i}_{1}$, etc. Do they behave as expected under multiplication (e.g., try $R^{i}_{1}*R_{1}$, $R^{i}_{2}*R^{i}_{2}*R_{3}$, etc.)**"
   ]
  },
  {
   "cell_type": "code",
   "execution_count": null,
   "metadata": {},
   "outputs": [],
   "source": []
  },
  {
   "cell_type": "markdown",
   "metadata": {},
   "source": [
    "### Solving sets of simultaneous linear equations\n",
    "The solve function in the linalg package can be used to sets of simultaneous equations. So for the trivial example in the matrix crib sheet\n",
    "\n",
    "$$\\begin{aligned}\\\\\n",
    "3x + 4y &= 11\\\\\n",
    "x - 2y &= -3\\\\\n",
    "\\end{aligned}$$\n",
    "\n",
    "we can write\n",
    "```python\n",
    ">>> import scipy as sp\n",
    ">>> import scipy.linalg as spla\n",
    ">>> A=sp.mat('3 4 ; 1 -2')\n",
    ">>> A\n",
    "matrix([[ 3,  4],\n",
    "        [ 1, -2]])\n",
    ">>> y=sp.mat('11 ; -3 ')\n",
    ">>> y\n",
    "matrix([[11],\n",
    "        [-3]])\n",
    ">>> spla.solve(A,y)\n",
    "array([[ 1.],\n",
    "       [ 2.]])\n",
    "```\n",
    "\n",
    "**Solve the following set of simultaneous equations and verify your solution**\n",
    "$$\\begin{aligned} \\\\\n",
    "x_1 + 2x_2 + 4x_3 + 7x_4 &= 1\\\\\n",
    "2x_1 + 4x_2 + 7x_3 + 8x_4 &= 5\\\\\n",
    "4x_1 + 7x_2 + 9x_3 &= 8\\\\\n",
    "x_1 + 4x_2 + 9x_3 + 3x_4 &= 9\\\\\n",
    "\\end{aligned}$$"
   ]
  },
  {
   "cell_type": "code",
   "execution_count": null,
   "metadata": {},
   "outputs": [],
   "source": []
  },
  {
   "cell_type": "markdown",
   "metadata": {},
   "source": [
    "---\n",
    "\n",
    "*Optional:*\n",
    "\n",
    "**Can you solve it using inv instead of spla.solve?**\n",
    "\n",
    "---"
   ]
  },
  {
   "cell_type": "code",
   "execution_count": null,
   "metadata": {},
   "outputs": [],
   "source": []
  },
  {
   "cell_type": "markdown",
   "metadata": {},
   "source": [
    "## Numerical equation solving\n",
    "There are some equations which you cannot solve analytically. These include so called transcendental equations such as $x=\\cos{x}$. Fortunately there are graphical and numerical approaches to solving such equations.\n",
    "\n",
    "**By repeatedly zooming in on a matplotlib graph find an approximate solution to $x=\\cos{x}$ to 5 significant figures. What limits the resolution of your solution?**"
   ]
  },
  {
   "cell_type": "code",
   "execution_count": null,
   "metadata": {},
   "outputs": [],
   "source": []
  },
  {
   "cell_type": "markdown",
   "metadata": {},
   "source": [
    "Numerical equation solvers often require you to make an initial guess as to what the solution of the equation actually is. They then iterate to a better solution. One very famous method for iteratively solving equations is the Newton-Raphson method which dates back to the 17th century. This uses the value and gradient of the function at the current guess to generate an improved estimate. This is shown in the animation below:\n",
    "\n",
    "![numerical equation solving animation](images/NewtonIteration_Ani.gif)\n",
    "Animation illustrating the Newton-Raphson method. (Taken from Wikipedia, which is why the labels are in German, Downloaded September 2012 <http://en.wikipedia.org/wiki/File:NewtonIteration_Ani.gif>).\n",
    "\n",
    "At each iteration, the estimate of the solution, $x_n$ is replace by $x_{n+1}=x_n - \\frac{f(x=x_n)}{f'(x=x_n)}$.\n",
    "\n",
    "**Write a program that solves $x=\\cos{x}$ iteratively and comment on how quickly it converges. Note that this is quite easy as you can differentiate the function analytically. How robust is this algorithm? i.e., if you start it a long way from the solution does it still find the correct solution?**"
   ]
  },
  {
   "cell_type": "code",
   "execution_count": null,
   "metadata": {},
   "outputs": [],
   "source": []
  },
  {
   "cell_type": "markdown",
   "metadata": {},
   "source": [
    "\n",
    "SciPy’s optimize package has several equation solvers, including one called newton which uses the Newton-Raphson method. You can choose which algorithm to use for a particular problem, however initially, you are probably best advised to stick to the default equation solver called fsolve which will be adequate for many problems.\n",
    "\n",
    "Here is a simple example (note that you are required to give an initial guess) :\n",
    "```python\n",
    "import scipy.optimize as op\n",
    "import numpy as np\n",
    "import pylab as pl\n",
    "\n",
    "def func(x):\n",
    "  return -x**2+1\n",
    "\n",
    "initial_guess=0.5\n",
    "\n",
    "# solve the function\n",
    "print(op.fsolve(func,initial_guess))\n",
    "\n",
    "#now plot the curves to be sure\n",
    "x=np.arange(-10,10,0.01)\n",
    "y=func(x)\n",
    "\n",
    "pl.plot(x,y)\n",
    "pl.grid()\n",
    "pl.show()\n",
    "\n",
    "```\n",
    "**Try this code and see how the answer changes with the initial_guess. What happens if you try an initial guess of 0 and why?**"
   ]
  },
  {
   "cell_type": "code",
   "execution_count": null,
   "metadata": {},
   "outputs": [],
   "source": []
  },
  {
   "cell_type": "markdown",
   "metadata": {},
   "source": [
    "\n",
    "fsolve can be used to solve sets of non-linear equations with multiple variables. So for example if you wished to solve the set of equations:\n",
    "\n",
    "$$\\begin{aligned}\\\\\n",
    "x + y &= y\\cos{y}\\\\\n",
    "x^2 + y^2 &= 3\\\\\n",
    "\\end{aligned}$$\n",
    "\n",
    "you can do so with the script\n",
    "\n",
    "\n",
    "```python\n",
    "import scipy.optimize as op\n",
    "import numpy as np\n",
    "import pylab as pl\n",
    "\n",
    "def func5(x):\n",
    "    #print(x)\n",
    "    out=[x[0]+x[1]-x[1]*np.cos(x[1])]\n",
    "    out.append(x[0]*x[0]+x[1]*x[1]-3)\n",
    "    return out\n",
    "\n",
    "a=[1,2]\n",
    "\n",
    "z=op.fsolve(func5,a)\n",
    "print(\"iterative solutions \",z)\n",
    "print(func5(z))\n",
    "```\n",
    "By printing the output of the function when called with the numerical solution you can see how close the numerical solution actually is to the true solution. If you uncomment the print statement in the function you can see how quickly the algorithm converges.\n",
    "\n",
    "This code produced the output:\n",
    "```\n",
    "iterative solutions  [-1.07364009  1.35915303]\n",
    "[5.126177260450504e-12, 2.2531310150952777e-11]\n",
    "```\n",
    "It is important to understand if this solution makes sense and if it is the only solution. The first solution to which fsolve iterates may be mathematically sound but might not be the solution that represents the physical situation you are modelling. Often graphing the solution can help (especially if you are only working in 2 variables). Below is a graph showing the two functions that we have been looking at and you can see that the solution found is only one of two possible solutions. How do you think that you might find the other solution? (If you don’t know ask a demonstrator as this is important.)\n",
    "\n",
    "\n",
    "\n",
    "![fsolve](images/Worksheet_2b-2.png)\n",
    "\n",
    "\n",
    "**Solve the simultaneous equations:**\n",
    "$$\\begin{aligned}\\\\\n",
    "e^{-x} - y &= 0\\\\\n",
    "\\sin{x} - y &= 0\\\\\n",
    "\\end{aligned}$$\n"
   ]
  },
  {
   "cell_type": "code",
   "execution_count": null,
   "metadata": {},
   "outputs": [],
   "source": []
  },
  {
   "cell_type": "markdown",
   "metadata": {},
   "source": [
    "**Is your solution unique? If you are unsure use matplotlib to plot both curves.**"
   ]
  },
  {
   "cell_type": "code",
   "execution_count": null,
   "metadata": {},
   "outputs": [],
   "source": []
  },
  {
   "cell_type": "markdown",
   "metadata": {},
   "source": [
    "## Roots of polynomials\n",
    "For solving polynomials there is a function in called roots which finds solutions very quickly. (roots is in both the numpy and scipy namespaces). The only calling argument is an array containing the coefficient in front of each polynomial term. The function uses the size of the list to know what order of polynomial you are using. The output is an ndarray with the solutions.\n",
    "\n",
    "So to solve the simple example of $x^2-1=0$ you could type:\n",
    "\n",
    "```python\n",
    "import numpy as np\n",
    "a=[1, 0, -1]\n",
    "np.roots(a)\n",
    "```\n",
    "\n",
    "**Find the roots of $2x^5+3x^2=1$. Check that the roots are valid solutions. Plot the polynomial.\n",
    "Use a random number generator to generate a 50th-order polynomial with integer coefficients between -5 and 5. Find the roots and check that they are all valid solutions. (Hint: you might find polyval helpful).**"
   ]
  },
  {
   "cell_type": "code",
   "execution_count": null,
   "metadata": {},
   "outputs": [],
   "source": []
  },
  {
   "cell_type": "markdown",
   "metadata": {},
   "source": [
    "---\n",
    "---\n",
    "\n",
    "## The following Mars orbits simulation is *VERY* optional and should only be completed if you have fully finished the rest of the notebook."
   ]
  },
  {
   "cell_type": "markdown",
   "metadata": {},
   "source": [
    "*This is harder so work together and ask your mentors for help if you need it.*\n",
    "\n",
    "Gravitational orbit problems are a staple of physics courses and here we are going to model a satellite approaching Mars. If we assume that the satellite came from the Earth, the solar system is such that you only have to work in 2 dimensions. For this part of this project you can assume $G=6.67×10−11m^3kg^{−1}s^{−2},~M_{Mars}=6.4×10^{23}kg,~R_{Mars}=3.4×10^6m,M_{Satellite}=260kg$.\n",
    "\n",
    "**Write down the equations of motion for a satellite approaching Mars as a set of first order ODE - you will need to resolve the forces into x and y. Write a numerical model for solving these ODE. Now, characterise the behaviour of the satellite as it approaches Mars. For example, you could consider when the satellite is captured and when it isn’t (clearly you can check this analytically), when it isn’t captured what is the angular deviation of the satellite’s trajectory (you should plot the deviation as a function of initial velocity and what would have been the distance of closest approach if there were no gravity), under what circumstances does the satellite collide with Mars, etc. The idea here is to use a numerical model to try to understand a physical situation and you should make plots of the properties that you investigate.<br>\n",
    "Assuming that Mars is at the origin, start your satellite from a point that is $−5R_{Mars}$ in x and $−2R_{Mars}$ in y and launch it with equal velocity in x and −y. Try initial velocity components between 10 and 10,000 ms−1 (in steps of 100ms−1 and plot the trajectories of your satellite. You might want to divide the distances by $R_{Mars}$. Some basic code to start you off is below but do the maths first or else you will not understand it**"
   ]
  },
  {
   "cell_type": "code",
   "execution_count": null,
   "metadata": {},
   "outputs": [],
   "source": [
    "import numpy as np\n",
    "import scipy as sp\n",
    "import pylab as pl\n",
    "import scipy.integrate as spi\n",
    "%matplotlib inline\n",
    "\n",
    "xx=[0.] #define as tuples so that can use similar code for Rutherford scatt later\n",
    "yy=[0.]\n",
    "\n",
    "Mmars=6.417e23\n",
    "Rmars=3.40e6\n",
    "G=6.673e-11\n",
    "ms=258.\n",
    "\n",
    "def f(a,t):\n",
    "  #print \"in the function\",a\n",
    "  vx=a[0]\n",
    "  x=a[1]\n",
    "  vy=a[2]\n",
    "  y=a[3]\n",
    "  r=np.sqrt((x-xx[0])*(x-xx[0])+(y-yy[0])*(y-yy[0]))\n",
    "  ax=-G*Mmars*(x-xx[0])/r**(3.)\n",
    "  ay=-G*Mmars*(y-yy[0])/r**(3.)\n",
    "  if r < Rmars:\n",
    "    ax,vx,vy,ay=0,0,0,0\n",
    "\n",
    "  return [ax,vx,ay,vy]\n",
    "\n",
    "\n",
    "vx= 1000 # 1km/s\n",
    "t=np.linspace(0.,50*Rmars/vx, 50000) #set up time\n",
    "a0=[vx,-5*Rmars,-vx,-2*Rmars]\n",
    "soln=spi.odeint(f,a0,t)\n",
    "fvxl=soln[:,0]\n",
    "fvyl=soln[:,2]\n",
    "fxl=soln[:,1]\n",
    "fyl=soln[:,3]\n",
    "\n",
    "pl.figure(1)\n",
    "pl.plot(fxl,fyl)\n",
    "pl.figure(2)\n",
    "pl.plot(t,fxl)\n",
    "pl.show()"
   ]
  },
  {
   "cell_type": "markdown",
   "metadata": {},
   "source": [
    "**Under the same initial conditions (and ratio of velocity components) plot the potential, kinetic and total energy for the satellite as a function of time. Starting from the same location as in the previous exercise and keeping the x and -y velocity components equal, make these plots for:**\n",
    "\n",
    "- an orbit that comes very close to the surface of Mars, for example one that has the x and -y velocity components set to $700\\text{ms}^{−1}$\n",
    "- an orbit that is further away the surface of Mars, for example one that has the x and -y velocity components set to $1300\\text{ms}^{−1}$\n",
    "- a trajectory where the satellite is not captured, for example one that has the x and -y velocity components set to $2000\\text{ms}^{−1}$\n",
    "\n",
    "\n",
    "**In each case you should record the graphs that you get and then zoom in until you can see that energy is not being conserved. Comment on the relative size of the energy non-conservation and total energy.**"
   ]
  },
  {
   "cell_type": "code",
   "execution_count": null,
   "metadata": {},
   "outputs": [],
   "source": []
  },
  {
   "cell_type": "markdown",
   "metadata": {},
   "source": [
    "Of course Mars isn’t really stationary but is moving through space at $24.1kms^{−1}$.\n",
    "\n",
    "**You can assume that Mars is moving only in the y direction. Include Mars’ motion in your simulation. You should note that the motion of Mars is such that a satellite at rest would not be captured. From the same initial location as you have used in earlier exercises\n",
    "plot the trajectory of a satellite that is captured and one that is not with Mars in motion. Hint the easiest way is simply to add the velocity of Mars onto your previous values. So if we take $V_x=1000ms^{−1}$ for the captured case you can take $V_y=−V_x+V_{Mars}$, similarly if you choose $V_x=2000ms^{−1}$ for the not captured case you can take $V_y=−V_x+V_{Mars}$\n",
    "plot the potential, kinetic and total energy for a satellite that is captured, a satellite that is not captured but passes “behind” Mars and finally a satellite that is not captured but passes “in front of” Mars. What does this tell you about the definition of energy. Given that we have shown that energy conservation is not exact with this ODE solver can we trust these results?**"
   ]
  },
  {
   "cell_type": "code",
   "execution_count": null,
   "metadata": {},
   "outputs": [],
   "source": []
  }
 ],
 "metadata": {
  "kernelspec": {
   "display_name": "Python 3 (ipykernel)",
   "language": "python",
   "name": "python3"
  },
  "language_info": {
   "codemirror_mode": {
    "name": "ipython",
    "version": 3
   },
   "file_extension": ".py",
   "mimetype": "text/x-python",
   "name": "python",
   "nbconvert_exporter": "python",
   "pygments_lexer": "ipython3",
   "version": "3.11.5"
  }
 },
 "nbformat": 4,
 "nbformat_minor": 4
}
